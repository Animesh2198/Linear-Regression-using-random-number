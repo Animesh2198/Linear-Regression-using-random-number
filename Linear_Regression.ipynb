{
  "nbformat": 4,
  "nbformat_minor": 0,
  "metadata": {
    "colab": {
      "provenance": []
    },
    "kernelspec": {
      "name": "python3",
      "display_name": "Python 3"
    },
    "language_info": {
      "name": "python"
    }
  },
  "cells": [
    {
      "cell_type": "code",
      "execution_count": 1,
      "metadata": {
        "id": "_jeFf78IcWk7"
      },
      "outputs": [],
      "source": [
        "import numpy as np\n",
        "import matplotlib.pyplot as plt\n",
        "import sklearn"
      ]
    },
    {
      "cell_type": "markdown",
      "source": [
        "y = mx + c (Equation of the straight line) \n",
        "And the parameters that define the nature of a line are m (slope) and c (intercept). Thus, given the data X, we wish to find its trend with the result y. From the predicted regression line, the model will predict a y given an X. Hence,\n",
        "\n",
        "y(xi) = a1*x + a2"
      ],
      "metadata": {
        "id": "IA4bj7yBon9n"
      }
    },
    {
      "cell_type": "markdown",
      "source": [
        "Reference : https://www.projectpro.io/article/scikit-learn-linear-regression-example/539#:~:text=The%20LinearRegression%20method%20of%20sklearn,prediction%20of%20the%20LinearRegression%20model."
      ],
      "metadata": {
        "id": "xOulKkfdpcV9"
      }
    },
    {
      "cell_type": "code",
      "source": [
        "np.random.seed(0)# This will generate some random number starting from 0 to 10 and making an array of 20 numbers. \n",
        "#0 is used to keep the value static and not change again and again. \n",
        "n=20\n",
        "x = np.linspace(0, 10, n, endpoint=False) + np.random.randn(n) #linear increase in number \n",
        "y = np.linspace(0, 10, n, endpoint=False) + np.random.randn(n)\n",
        "y = x*2 + 1 + np.random.randn(n) # np.random.randn(n) is used for generating random values between 0 to 10 linearly. \n",
        "y "
      ],
      "metadata": {
        "colab": {
          "base_uri": "https://localhost:8080/"
        },
        "id": "7dpHBI2Tcdml",
        "outputId": "2b16748c-079d-4017-8911-2c5bfc561c28"
      },
      "execution_count": 121,
      "outputs": [
        {
          "output_type": "execute_result",
          "data": {
            "text/plain": [
              "array([ 2.69070608,  0.37313238,  6.96144354,  2.8092097 ,  6.94512077,\n",
              "        2.00377727,  3.41345113,  7.75139315,  4.44435248, 11.29206417,\n",
              "        8.76935047,  8.18763456, 11.99276656, 15.51266439, 13.16373537,\n",
              "       14.08549304, 14.41135247, 18.89044317, 21.32675409, 21.14845952])"
            ]
          },
          "metadata": {},
          "execution_count": 121
        }
      ]
    },
    {
      "cell_type": "markdown",
      "source": [
        "Value of X : array([0. , 0.5, 1. , 1.5, 2. , 2.5, 3. , 3.5, 4. , 4.5, 5. , 5.5, 6. ,\n",
        "       6.5, 7. , 7.5, 8. , 8.5, 9. , 9.5]) "
      ],
      "metadata": {
        "id": "WNIRSx0OvTA3"
      }
    },
    {
      "cell_type": "markdown",
      "source": [
        "Value of y : array([ 2.76405235,  2.40015721,  3.97873798,  6.2408932 ,  6.86755799,\n",
        "        5.02272212,  7.95008842,  7.84864279,  8.89678115, 10.4105985 ,\n",
        "       11.14404357, 13.45427351, 13.76103773, 14.12167502, 15.44386323,\n",
        "       16.33367433, 18.49407907, 17.79484174, 19.3130677 , 19.14590426])"
      ],
      "metadata": {
        "id": "xyHZPHeUvZzf"
      }
    },
    {
      "cell_type": "markdown",
      "source": [
        "Now let’s fit a line to these data points. First import the LinearRegression class from sklearn, and\n",
        "create an object (which I’ll call “linreg”):"
      ],
      "metadata": {
        "id": "sEgsHCo8nvxG"
      }
    },
    {
      "cell_type": "code",
      "source": [
        "#x = np.linspace(0,4,n)\n",
        "#y = -x*x*x + 6*x*x - 9*x + 2 + 0.2 * np.random.randn(n)\n",
        "#linreg.fit(np.transpose([x]),y)\n",
        "#yfit=linreg.predict(np.transpose([x]))\n",
        "#linreg.fit(np.transpose([x,x*x]),y)\n",
        "#linreg.fit(np.transpose([x,x*x]),y) \n",
        "#linreg.fit(np.transpose([x,x*x,x*x*x]),y)\n",
        "#linreg.fit(np.transpose([x,x*x,x*x*x]),y)"
      ],
      "metadata": {
        "id": "GKEBJzPy0nEH"
      },
      "execution_count": null,
      "outputs": []
    },
    {
      "cell_type": "code",
      "source": [
        "from sklearn.linear_model import LinearRegression"
      ],
      "metadata": {
        "id": "FWW29FKVnxhH"
      },
      "execution_count": 48,
      "outputs": []
    },
    {
      "cell_type": "code",
      "source": [
        "lg = LinearRegression() #LinearRegression is predifned and used for  and object is created. "
      ],
      "metadata": {
        "id": "z3JVw8-Mn3wG"
      },
      "execution_count": 51,
      "outputs": []
    },
    {
      "cell_type": "code",
      "source": [
        "lg.fit(x[:,np.newaxis], y) # Now fit the line to the data: "
      ],
      "metadata": {
        "colab": {
          "base_uri": "https://localhost:8080/"
        },
        "id": "vUNBt7ubqoIi",
        "outputId": "58d108bf-c573-494f-ed08-00b440623508"
      },
      "execution_count": 116,
      "outputs": [
        {
          "output_type": "execute_result",
          "data": {
            "text/plain": [
              "LinearRegression()"
            ]
          },
          "metadata": {},
          "execution_count": 116
        }
      ]
    },
    {
      "cell_type": "code",
      "source": [
        "yfit = lg.predict(np.transpose([x])) \n",
        "plt.plot(x, y, 'd')\n",
        "plt.plot(x, yfit)"
      ],
      "metadata": {
        "colab": {
          "base_uri": "https://localhost:8080/",
          "height": 282
        },
        "id": "B4dVrq7OrqLv",
        "outputId": "770df146-2bf7-4993-8cc1-3d0537e777ed"
      },
      "execution_count": 122,
      "outputs": [
        {
          "output_type": "execute_result",
          "data": {
            "text/plain": [
              "[<matplotlib.lines.Line2D at 0x7fb97436d310>]"
            ]
          },
          "metadata": {},
          "execution_count": 122
        },
        {
          "output_type": "display_data",
          "data": {
            "text/plain": [
              "<Figure size 432x288 with 1 Axes>"
            ],
            "image/png": "[encoded data removed]"
          },
          "metadata": {
            "needs_background": "light"
          }
        }
      ]
    }
  ]
}